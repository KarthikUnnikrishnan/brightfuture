{
 "cells": [
  {
   "cell_type": "code",
   "execution_count": 1,
   "metadata": {
    "colab": {
     "base_uri": "https://localhost:8080/"
    },
    "id": "e4Q_x5RWt7Qx",
    "outputId": "0a04e1e6-3c73-42ed-9e8e-74178768f653"
   },
   "outputs": [],
   "source": [
    "import pandas as pd\n",
    "import re\n",
    "import joblib\n",
    "\n",
    "class CourseRecommender:\n",
    "    def __init__(self, courses_df):\n",
    "        self.courses_df = courses_df\n",
    "        self.courses_df['Skills'] = self.courses_df['Skills'].fillna('')  # Replace NaN with empty string\n",
    "\n",
    "    def recommend_courses(self, field_of_interest, skills, enrolled_courses=None, num_recommendations=5):\n",
    "        # Combine user interests and skills into a single string for easier matching\n",
    "        interest_pattern = field_of_interest.strip()\n",
    "\n",
    "        # Escape special characters in each skill and join them with '|'\n",
    "        skills_pattern = '|'.join([re.escape(skill.strip()) for skill in skills])\n",
    "\n",
    "        # Filter courses based on the field of interest (Category or Sub-Category)\n",
    "        matching_courses = self.courses_df[\n",
    "            (self.courses_df['Category'].str.contains(interest_pattern, case=False, na=False)) |\n",
    "            (self.courses_df['Sub-Category'].str.contains(interest_pattern, case=False, na=False)) |\n",
    "            (self.courses_df['Skills'].str.contains(skills_pattern, case=False, na=False))\n",
    "        ]\n",
    "\n",
    "        # If the user has enrolled in courses, exclude them from recommendations\n",
    "        if enrolled_courses:\n",
    "            enrolled_courses_cleaned = [course.strip() for course in enrolled_courses]\n",
    "            matching_courses = matching_courses[~matching_courses['Title'].isin(enrolled_courses_cleaned)]\n",
    "\n",
    "        # Select the top courses and return the title and URL\n",
    "        recommendations = matching_courses[['Title', 'URL']].head(num_recommendations)\n",
    "\n",
    "        return recommendations"
   ]
  },
  {
   "cell_type": "code",
   "execution_count": 2,
   "metadata": {},
   "outputs": [
    {
     "data": {
      "text/plain": [
       "['course_recommender.joblib']"
      ]
     },
     "execution_count": 2,
     "metadata": {},
     "output_type": "execute_result"
    }
   ],
   "source": [
    "# Load the data\n",
    "courses_df = pd.read_csv(r'F:\\\\brightfuture\\\\ml_models\\\\course_recommendation\\\\online_courses_data (Final).csv')\n",
    "\n",
    "# Create an instance of the recommender\n",
    "recommender = CourseRecommender(courses_df)\n",
    "\n",
    "# Save the recommender model\n",
    "joblib.dump(CourseRecommender, 'course_recommender.joblib')"
   ]
  },
  {
   "cell_type": "code",
   "execution_count": 3,
   "metadata": {},
   "outputs": [
    {
     "name": "stdout",
     "output_type": "stream",
     "text": [
      "\n",
      "Recommended Courses:\n",
      "Machine Learning Specialization\n",
      "Link: https://www.coursera.org/specializations/machine-learning-introduction\n",
      "\n",
      "Introduction to Data Science Specialization\n",
      "Link: https://www.coursera.org/specializations/introduction-data-science\n",
      "\n",
      "Data Science Fundamentals with Python and SQL Specialization\n",
      "Link: https://www.coursera.org/specializations/data-science-fundamentals-python-sql\n",
      "\n",
      "Key Technologies for Business Specialization\n",
      "Link: https://www.coursera.org/specializations/key-technologies-for-business\n",
      "\n",
      "Deep Learning Specialization\n",
      "Link: https://www.coursera.org/specializations/deep-learning\n",
      "\n"
     ]
    }
   ],
   "source": [
    "# Load the recommender model\n",
    "loaded_recommender = joblib.load('course_recommender.joblib')\n",
    "\n",
    "# Example usage:\n",
    "field_of_interest = input(\"Enter your field of interest (e.g., Data Science, Business, AI): \")\n",
    "skills_input = input(\"Enter your skills (comma-separated, e.g., Python, Machine Learning): \")\n",
    "skills = skills_input.split(',')\n",
    "enrolled_courses_input = input(\"Enter currently enrolled courses (comma-separated, or leave blank if none): \")\n",
    "enrolled_courses = enrolled_courses_input.split(',') if enrolled_courses_input else None\n",
    "\n",
    "# Call the recommendation function\n",
    "recommended_courses = loaded_recommender.recommend_courses(\n",
    "    field_of_interest,\n",
    "    skills,\n",
    "    enrolled_courses if enrolled_courses else None\n",
    ")\n",
    "\n",
    "# Display the recommendations\n",
    "if not recommended_courses.empty:\n",
    "    print(\"\\nRecommended Courses:\")\n",
    "    for _, row in recommended_courses.iterrows():\n",
    "        print(f\"{row['Title']}\")\n",
    "        print(f\"Link: {row['URL']}\\n\")\n",
    "else:\n",
    "    print(\"No courses found matching your input.\")"
   ]
  }
 ],
 "metadata": {
  "colab": {
   "provenance": []
  },
  "kernelspec": {
   "display_name": ".venv",
   "language": "python",
   "name": "python3"
  },
  "language_info": {
   "codemirror_mode": {
    "name": "ipython",
    "version": 3
   },
   "file_extension": ".py",
   "mimetype": "text/x-python",
   "name": "python",
   "nbconvert_exporter": "python",
   "pygments_lexer": "ipython3",
   "version": "3.12.5"
  }
 },
 "nbformat": 4,
 "nbformat_minor": 0
}
