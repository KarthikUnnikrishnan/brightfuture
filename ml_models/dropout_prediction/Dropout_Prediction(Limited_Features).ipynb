{
 "cells": [
  {
   "cell_type": "markdown",
   "metadata": {
    "id": "_vy_NZ69d5cq"
   },
   "source": [
    "**Importing The Packages**"
   ]
  },
  {
   "cell_type": "code",
   "execution_count": 2,
   "metadata": {
    "executionInfo": {
     "elapsed": 4473,
     "status": "ok",
     "timestamp": 1729966958498,
     "user": {
      "displayName": "Karthik Unnikrishnan",
      "userId": "05687783622187080547"
     },
     "user_tz": -330
    },
    "id": "ZdV7BP2HdkMw"
   },
   "outputs": [],
   "source": [
    "import numpy as np\n",
    "import pandas as pd\n",
    "import matplotlib.pyplot as plt\n",
    "import joblib\n",
    "from matplotlib.gridspec import GridSpec\n",
    "from sklearn.naive_bayes import GaussianNB\n",
    "from sklearn.model_selection import train_test_split\n",
    "from sklearn.preprocessing import StandardScaler\n",
    "from sklearn.model_selection import GridSearchCV\n",
    "from sklearn.metrics import accuracy_score, classification_report, precision_score,precision_recall_fscore_support, roc_auc_score, log_loss, confusion_matrix\n",
    "from sklearn.linear_model import LogisticRegression\n",
    "from sklearn.tree import DecisionTreeClassifier\n",
    "from sklearn.ensemble import RandomForestClassifier, GradientBoostingClassifier\n",
    "from sklearn.svm import SVC\n",
    "from sklearn.neighbors import KNeighborsClassifier\n",
    "from sklearn.tree import plot_tree"
   ]
  },
  {
   "cell_type": "markdown",
   "metadata": {
    "id": "m3WBsV9Ovi6u"
   },
   "source": [
    "**Reading The Dataset**"
   ]
  },
  {
   "cell_type": "code",
   "execution_count": 3,
   "metadata": {
    "colab": {
     "base_uri": "https://localhost:8080/",
     "height": 206
    },
    "executionInfo": {
     "elapsed": 2154,
     "status": "ok",
     "timestamp": 1729966960650,
     "user": {
      "displayName": "Karthik Unnikrishnan",
      "userId": "05687783622187080547"
     },
     "user_tz": -330
    },
    "id": "I7LU92BPvoew",
    "outputId": "2248bbdd-3c63-4bf5-d591-68e3915749e6"
   },
   "outputs": [
    {
     "data": {
      "text/html": [
       "<div>\n",
       "<style scoped>\n",
       "    .dataframe tbody tr th:only-of-type {\n",
       "        vertical-align: middle;\n",
       "    }\n",
       "\n",
       "    .dataframe tbody tr th {\n",
       "        vertical-align: top;\n",
       "    }\n",
       "\n",
       "    .dataframe thead th {\n",
       "        text-align: right;\n",
       "    }\n",
       "</style>\n",
       "<table border=\"1\" class=\"dataframe\">\n",
       "  <thead>\n",
       "    <tr style=\"text-align: right;\">\n",
       "      <th></th>\n",
       "      <th>Daytime/evening attendance</th>\n",
       "      <th>Tuition fees up to date</th>\n",
       "      <th>Curricular units 1st sem (grade)</th>\n",
       "      <th>Curricular units 2nd sem (grade)</th>\n",
       "      <th>Target</th>\n",
       "    </tr>\n",
       "  </thead>\n",
       "  <tbody>\n",
       "    <tr>\n",
       "      <th>0</th>\n",
       "      <td>1</td>\n",
       "      <td>1</td>\n",
       "      <td>0.000000</td>\n",
       "      <td>0.000000</td>\n",
       "      <td>Dropout</td>\n",
       "    </tr>\n",
       "    <tr>\n",
       "      <th>1</th>\n",
       "      <td>1</td>\n",
       "      <td>0</td>\n",
       "      <td>4.666667</td>\n",
       "      <td>4.555556</td>\n",
       "      <td>Graduate</td>\n",
       "    </tr>\n",
       "    <tr>\n",
       "      <th>2</th>\n",
       "      <td>1</td>\n",
       "      <td>0</td>\n",
       "      <td>0.000000</td>\n",
       "      <td>0.000000</td>\n",
       "      <td>Dropout</td>\n",
       "    </tr>\n",
       "    <tr>\n",
       "      <th>3</th>\n",
       "      <td>1</td>\n",
       "      <td>1</td>\n",
       "      <td>4.476190</td>\n",
       "      <td>4.133333</td>\n",
       "      <td>Graduate</td>\n",
       "    </tr>\n",
       "    <tr>\n",
       "      <th>4</th>\n",
       "      <td>0</td>\n",
       "      <td>1</td>\n",
       "      <td>4.111111</td>\n",
       "      <td>4.333333</td>\n",
       "      <td>Graduate</td>\n",
       "    </tr>\n",
       "  </tbody>\n",
       "</table>\n",
       "</div>"
      ],
      "text/plain": [
       "   Daytime/evening attendance  Tuition fees up to date  \\\n",
       "0                           1                        1   \n",
       "1                           1                        0   \n",
       "2                           1                        0   \n",
       "3                           1                        1   \n",
       "4                           0                        1   \n",
       "\n",
       "   Curricular units 1st sem (grade)  Curricular units 2nd sem (grade)  \\\n",
       "0                          0.000000                          0.000000   \n",
       "1                          4.666667                          4.555556   \n",
       "2                          0.000000                          0.000000   \n",
       "3                          4.476190                          4.133333   \n",
       "4                          4.111111                          4.333333   \n",
       "\n",
       "     Target  \n",
       "0   Dropout  \n",
       "1  Graduate  \n",
       "2   Dropout  \n",
       "3  Graduate  \n",
       "4  Graduate  "
      ]
     },
     "execution_count": 3,
     "metadata": {},
     "output_type": "execute_result"
    }
   ],
   "source": [
    "data = pd.read_csv(r'F:\\brightfuture\\ml_models\\dropout_prediction\\dropout_dataset_final.csv')\n",
    "\n",
    "columns = ['Marital status','Application mode','Application order','Course','Previous qualification','Nacionality','Mother\\'s qualification','Father\\'s qualification','Mother\\'s occupation',\n",
    "           'Father\\'s occupation','Displaced','Educational special needs','Debtor','Gender','Age at enrollment','International','Curricular units 1st sem (credited)',\n",
    "           'Curricular units 1st sem (enrolled)','Curricular units 1st sem (evaluations)','Curricular units 1st sem (approved)','Curricular units 1st sem (without evaluations)',\n",
    "           'Curricular units 2nd sem (credited)','Curricular units 2nd sem (enrolled)','Curricular units 2nd sem (evaluations)','Curricular units 2nd sem (approved)','Curricular units 2nd sem (without evaluations)',\n",
    "           'Unemployment rate','Inflation rate','GDP','Scholarship holder'\n",
    "           ]\n",
    "\n",
    "data.drop(columns,axis=1,inplace = True)\n",
    "data.head(5)"
   ]
  },
  {
   "cell_type": "markdown",
   "metadata": {
    "id": "-UvMfWLS3iYt"
   },
   "source": [
    "**Data Preprocessing**"
   ]
  },
  {
   "cell_type": "code",
   "execution_count": 4,
   "metadata": {
    "colab": {
     "base_uri": "https://localhost:8080/"
    },
    "executionInfo": {
     "elapsed": 21,
     "status": "ok",
     "timestamp": 1729966960652,
     "user": {
      "displayName": "Karthik Unnikrishnan",
      "userId": "05687783622187080547"
     },
     "user_tz": -330
    },
    "id": "MsaNiRrv3k0J",
    "outputId": "5d7d1b7a-7c1e-4bff-a22a-cb066d052d0c"
   },
   "outputs": [
    {
     "data": {
      "text/plain": [
       "(3630, 5)"
      ]
     },
     "execution_count": 4,
     "metadata": {},
     "output_type": "execute_result"
    }
   ],
   "source": [
    "#Removed rows which the target variable set to enrolled\n",
    "data_filtered = data[data['Target'] != 'Enrolled']\n",
    "data_filtered.shape"
   ]
  },
  {
   "cell_type": "code",
   "execution_count": 5,
   "metadata": {
    "colab": {
     "base_uri": "https://localhost:8080/",
     "height": 206
    },
    "executionInfo": {
     "elapsed": 18,
     "status": "ok",
     "timestamp": 1729966960652,
     "user": {
      "displayName": "Karthik Unnikrishnan",
      "userId": "05687783622187080547"
     },
     "user_tz": -330
    },
    "id": "kBwEkgoY5icI",
    "outputId": "00dce94a-bcdb-4b89-ba61-7efb02ea9c58"
   },
   "outputs": [
    {
     "data": {
      "text/html": [
       "<div>\n",
       "<style scoped>\n",
       "    .dataframe tbody tr th:only-of-type {\n",
       "        vertical-align: middle;\n",
       "    }\n",
       "\n",
       "    .dataframe tbody tr th {\n",
       "        vertical-align: top;\n",
       "    }\n",
       "\n",
       "    .dataframe thead th {\n",
       "        text-align: right;\n",
       "    }\n",
       "</style>\n",
       "<table border=\"1\" class=\"dataframe\">\n",
       "  <thead>\n",
       "    <tr style=\"text-align: right;\">\n",
       "      <th></th>\n",
       "      <th>Daytime/evening attendance</th>\n",
       "      <th>Tuition fees up to date</th>\n",
       "      <th>Curricular units 1st sem (grade)</th>\n",
       "      <th>Curricular units 2nd sem (grade)</th>\n",
       "      <th>Target</th>\n",
       "    </tr>\n",
       "  </thead>\n",
       "  <tbody>\n",
       "    <tr>\n",
       "      <th>0</th>\n",
       "      <td>1</td>\n",
       "      <td>1</td>\n",
       "      <td>0.000000</td>\n",
       "      <td>0.000000</td>\n",
       "      <td>0</td>\n",
       "    </tr>\n",
       "    <tr>\n",
       "      <th>1</th>\n",
       "      <td>1</td>\n",
       "      <td>0</td>\n",
       "      <td>4.666667</td>\n",
       "      <td>4.555556</td>\n",
       "      <td>1</td>\n",
       "    </tr>\n",
       "    <tr>\n",
       "      <th>2</th>\n",
       "      <td>1</td>\n",
       "      <td>0</td>\n",
       "      <td>0.000000</td>\n",
       "      <td>0.000000</td>\n",
       "      <td>0</td>\n",
       "    </tr>\n",
       "    <tr>\n",
       "      <th>3</th>\n",
       "      <td>1</td>\n",
       "      <td>1</td>\n",
       "      <td>4.476190</td>\n",
       "      <td>4.133333</td>\n",
       "      <td>1</td>\n",
       "    </tr>\n",
       "    <tr>\n",
       "      <th>4</th>\n",
       "      <td>0</td>\n",
       "      <td>1</td>\n",
       "      <td>4.111111</td>\n",
       "      <td>4.333333</td>\n",
       "      <td>1</td>\n",
       "    </tr>\n",
       "  </tbody>\n",
       "</table>\n",
       "</div>"
      ],
      "text/plain": [
       "   Daytime/evening attendance  Tuition fees up to date  \\\n",
       "0                           1                        1   \n",
       "1                           1                        0   \n",
       "2                           1                        0   \n",
       "3                           1                        1   \n",
       "4                           0                        1   \n",
       "\n",
       "   Curricular units 1st sem (grade)  Curricular units 2nd sem (grade)  Target  \n",
       "0                          0.000000                          0.000000       0  \n",
       "1                          4.666667                          4.555556       1  \n",
       "2                          0.000000                          0.000000       0  \n",
       "3                          4.476190                          4.133333       1  \n",
       "4                          4.111111                          4.333333       1  "
      ]
     },
     "execution_count": 5,
     "metadata": {},
     "output_type": "execute_result"
    }
   ],
   "source": [
    "#Mapping binary values 0 and 1 to the target variables\n",
    "data_no_outliers = data_filtered.copy()\n",
    "\n",
    "data_no_outliers['Target'] = data_no_outliers['Target'].map({\n",
    "    'Dropout': 0,\n",
    "    'Graduate': 1\n",
    "})\n",
    "data_no_outliers.head(5)"
   ]
  },
  {
   "cell_type": "markdown",
   "metadata": {
    "id": "sW9kYuhFnzb0"
   },
   "source": [
    "**Model Selection and Training**"
   ]
  },
  {
   "cell_type": "code",
   "execution_count": 6,
   "metadata": {
    "executionInfo": {
     "elapsed": 6,
     "status": "ok",
     "timestamp": 1729966963600,
     "user": {
      "displayName": "Karthik Unnikrishnan",
      "userId": "05687783622187080547"
     },
     "user_tz": -330
    },
    "id": "xfOEEzqcn14O"
   },
   "outputs": [],
   "source": [
    "X = data_no_outliers.drop('Target', axis=1)\n",
    "y = data_no_outliers['Target']\n",
    "\n",
    "X_train, X_test, y_train, y_test = train_test_split(X, y, test_size=0.20, random_state=42)\n",
    "\n",
    "Names=list(X_train.columns.values)\n",
    "\n",
    "scaler = StandardScaler()\n",
    "X_train = scaler.fit_transform(X_train)\n",
    "X_test = scaler.transform(X_test)"
   ]
  },
  {
   "cell_type": "markdown",
   "metadata": {
    "id": "bmX6j5ZMo4wH"
   },
   "source": [
    "**Random Forest**"
   ]
  },
  {
   "cell_type": "code",
   "execution_count": 7,
   "metadata": {
    "colab": {
     "base_uri": "https://localhost:8080/",
     "height": 740
    },
    "executionInfo": {
     "elapsed": 51481,
     "status": "ok",
     "timestamp": 1729967021783,
     "user": {
      "displayName": "Karthik Unnikrishnan",
      "userId": "05687783622187080547"
     },
     "user_tz": -330
    },
    "id": "AqvLxGt9o7Dk",
    "outputId": "be3b4d79-84e5-4a03-f2bf-4301c3143db9"
   },
   "outputs": [
    {
     "name": "stdout",
     "output_type": "stream",
     "text": [
      "Best Parameters: {'max_depth': 5, 'n_estimators': 100}\n",
      "Accuracy: 0.86\n",
      "Precision: 0.86\n",
      "Recall: 0.86\n",
      "F1-score: 0.85\n"
     ]
    }
   ],
   "source": [
    "rf = RandomForestClassifier()\n",
    "param_grid = {'n_estimators': [50, 100, 150, 200], 'max_depth': [5, 10, 20, 30]}\n",
    "grid_search = GridSearchCV(rf, param_grid, cv=5, scoring='accuracy')\n",
    "grid_search.fit(X_train, y_train)\n",
    "\n",
    "best_params = grid_search.best_params_\n",
    "print(\"Best Parameters:\", best_params)\n",
    "\n",
    "best_rf = RandomForestClassifier(n_estimators=best_params['n_estimators'], max_depth=best_params['max_depth'])\n",
    "best_rf.fit(X_train, y_train)\n",
    "\n",
    "#Predicting the model\n",
    "y_pred = best_rf.predict(X_test)\n",
    "\n",
    "#Printing the accuracy of the model\n",
    "accuracy = accuracy_score(y_test, y_pred)\n",
    "precision, recall, f1, _ = precision_recall_fscore_support(y_test, y_pred, average='weighted')\n",
    "\n",
    "print(f\"Accuracy: {accuracy:.2f}\")\n",
    "print(f\"Precision: {precision:.2f}\")\n",
    "print(f\"Recall: {recall:.2f}\")\n",
    "print(f\"F1-score: {f1:.2f}\")"
   ]
  },
  {
   "cell_type": "code",
   "execution_count": 8,
   "metadata": {},
   "outputs": [
    {
     "data": {
      "text/plain": [
       "['dropout-model.joblib']"
      ]
     },
     "execution_count": 8,
     "metadata": {},
     "output_type": "execute_result"
    }
   ],
   "source": [
    "#Saving the model\n",
    "joblib.dump(best_rf,\"dropout-model.joblib\")"
   ]
  }
 ],
 "metadata": {
  "colab": {
   "name": "",
   "version": ""
  },
  "kernelspec": {
   "display_name": ".venv",
   "language": "python",
   "name": "python3"
  },
  "language_info": {
   "codemirror_mode": {
    "name": "ipython",
    "version": 3
   },
   "file_extension": ".py",
   "mimetype": "text/x-python",
   "name": "python",
   "nbconvert_exporter": "python",
   "pygments_lexer": "ipython3",
   "version": "3.12.5"
  }
 },
 "nbformat": 4,
 "nbformat_minor": 4
}
